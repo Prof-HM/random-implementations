{
 "cells": [
  {
   "cell_type": "markdown",
   "id": "54fb83f5",
   "metadata": {},
   "source": [
    "# Weather of city\n",
    "Step1: Create account at https://openweathermap.org\n",
    "\n",
    "Step2: Retrieve your personal api https://home.openweathermap.org/api_keys\n",
    "\n",
    "Step3: Install requests package as pre-requiste, through the command prompt\n"
   ]
  },
  {
   "cell_type": "raw",
   "id": "b25824c4",
   "metadata": {},
   "source": [
    "pip install requests"
   ]
  },
  {
   "cell_type": "code",
   "execution_count": 4,
   "id": "03c131c6",
   "metadata": {},
   "outputs": [],
   "source": [
    "import requests\n",
    "BASE_URL = \"http://api.openweathermap.org/data/2.5/weather\"\n",
    "API_KEY = \"copy & paste your api key here\""
   ]
  },
  {
   "cell_type": "code",
   "execution_count": 5,
   "id": "ba3a75b4",
   "metadata": {},
   "outputs": [],
   "source": [
    "def get_weather_details(city):\n",
    "    try:\n",
    "        url = BASE_URL + \"?q=\" + city + \"&APPID=\" + API_KEY\n",
    "        response = requests.get(url).json()\n",
    "        temp_kelvin = response[\"main\"][\"temp\"]\n",
    "        temp_cel = int(temp_kelvin - 273.15)\n",
    "        humidity = response[\"main\"][\"humidity\"]\n",
    "        description = response[\"weather\"][0][\"description\"]\n",
    "        print(f\"\\nTemperature of {city} is {temp_cel}°C with {description}\")\n",
    "        print(f\"\\nExpected Humidity is {humidity}\")\n",
    "    except Exception as e:\n",
    "        print(\"Something went wrong\")"
   ]
  },
  {
   "cell_type": "code",
   "execution_count": 6,
   "id": "c16a782c",
   "metadata": {},
   "outputs": [
    {
     "name": "stdout",
     "output_type": "stream",
     "text": [
      "\n",
      "Temperature of Selangor is 26°C with overcast clouds\n",
      "\n",
      "Expected Humidity is 86\n"
     ]
    }
   ],
   "source": [
    "get_weather_details(\"Selangor\")"
   ]
  }
 ],
 "metadata": {
  "kernelspec": {
   "display_name": "Python 3 (ipykernel)",
   "language": "python",
   "name": "python3"
  },
  "language_info": {
   "codemirror_mode": {
    "name": "ipython",
    "version": 3
   },
   "file_extension": ".py",
   "mimetype": "text/x-python",
   "name": "python",
   "nbconvert_exporter": "python",
   "pygments_lexer": "ipython3",
   "version": "3.9.12"
  }
 },
 "nbformat": 4,
 "nbformat_minor": 5
}
