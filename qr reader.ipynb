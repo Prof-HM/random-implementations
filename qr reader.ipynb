{
 "cells": [
  {
   "cell_type": "markdown",
   "id": "fae1edaa",
   "metadata": {},
   "source": [
    "# Install pre-requisites"
   ]
  },
  {
   "cell_type": "raw",
   "id": "cbca59ab",
   "metadata": {},
   "source": [
    "pip install opencv-python"
   ]
  },
  {
   "cell_type": "markdown",
   "id": "4b445c06",
   "metadata": {},
   "source": [
    "# Reading QR code from file"
   ]
  },
  {
   "cell_type": "code",
   "execution_count": null,
   "id": "f22e2cab",
   "metadata": {},
   "outputs": [],
   "source": [
    "import cv2\n",
    "from pyzbar.pyzbar import decode  "
   ]
  },
  {
   "cell_type": "code",
   "execution_count": null,
   "id": "655dce59",
   "metadata": {},
   "outputs": [],
   "source": [
    "img = cv2.imread('qr-gen.png')\n",
    "data = decode(img)\n",
    "print(data)\n",
    "for info in decode(img):\n",
    "    print(info.data.decode('utf-8'))\n",
    "    print(info.type)"
   ]
  },
  {
   "cell_type": "markdown",
   "id": "bec49dbf",
   "metadata": {},
   "source": [
    "# Reading QR code from camera"
   ]
  },
  {
   "cell_type": "code",
   "execution_count": null,
   "id": "828e2890",
   "metadata": {},
   "outputs": [],
   "source": [
    "cam = cv2.VideoCapture(0)\n",
    "cam.set(3,640) # Width\n",
    "cam.set(4,480) # Height\n",
    "\n",
    "camera = True\n",
    "while camera == True:\n",
    "    success,frame = cam.read()\n",
    "    for info in decode(frame):\n",
    "        print(info.data.decode('utf-8'))\n",
    "        print(info.type)\n",
    "    \n",
    "    cv2.imshow('Testing QR scan',frame)\n",
    "    cv2.waitKey(1)\n"
   ]
  },
  {
   "cell_type": "code",
   "execution_count": null,
   "id": "f046910b",
   "metadata": {},
   "outputs": [],
   "source": [
    "# to prevent camera from scanning the same code multiple times\n",
    "import time\n",
    "\n",
    "cam = cv2.VideoCapture(0)\n",
    "cam.set(3,640) # Width\n",
    "cam.set(4,480) # Height\n",
    "\n",
    "camera = True\n",
    "\n",
    "used_scans = []\n",
    "\n",
    "while camera == True:\n",
    "    success,frame = cam.read()\n",
    "    for info in decode(frame):\n",
    "        if info.data.decode('utf-8') not in used_scans:\n",
    "            print('\\n New code found, scanning...')\n",
    "            print(info.data.decode('utf-8'))\n",
    "            print(info.type)\n",
    "            used_scans.append(info.data.decode('utf-8'))\n",
    "            print('Camera sleeping for 3 seconds')\n",
    "            time.sleep(3)\n",
    "        elif info.data.decode('utf-8') in used_scans:\n",
    "            print('\\n Old code found, scanning...')\n",
    "            print(info.data.decode('utf-8'))\n",
    "            print(info.type)\n",
    "            print('Camera sleeping for 3 seconds')\n",
    "            time.sleep(3)\n",
    "    cv2.imshow('Testing QR scan',frame)\n",
    "    cv2.waitKey(1)\n",
    "cam.release()\n",
    "cv2.DestroyAllWindows()"
   ]
  }
 ],
 "metadata": {
  "kernelspec": {
   "display_name": "Python 3 (ipykernel)",
   "language": "python",
   "name": "python3"
  },
  "language_info": {
   "codemirror_mode": {
    "name": "ipython",
    "version": 3
   },
   "file_extension": ".py",
   "mimetype": "text/x-python",
   "name": "python",
   "nbconvert_exporter": "python",
   "pygments_lexer": "ipython3",
   "version": "3.9.12"
  }
 },
 "nbformat": 4,
 "nbformat_minor": 5
}
