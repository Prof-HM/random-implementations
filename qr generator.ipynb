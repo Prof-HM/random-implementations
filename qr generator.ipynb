{
 "cells": [
  {
   "cell_type": "markdown",
   "id": "94fa0397",
   "metadata": {},
   "source": [
    "# Install pre-requisites"
   ]
  },
  {
   "cell_type": "raw",
   "id": "de215e28",
   "metadata": {},
   "source": [
    "pip install pyqrcode\n",
    "pip install pypng"
   ]
  },
  {
   "cell_type": "code",
   "execution_count": null,
   "id": "9086ff78",
   "metadata": {},
   "outputs": [],
   "source": [
    "import pyqrcode\n",
    "import png\n",
    "from pyqrcode import QRCode"
   ]
  },
  {
   "cell_type": "markdown",
   "id": "5c17e8d1",
   "metadata": {},
   "source": [
    "# Generate one QR code"
   ]
  },
  {
   "cell_type": "code",
   "execution_count": null,
   "id": "c49fd2e1",
   "metadata": {},
   "outputs": [],
   "source": [
    "#s = \"https://www.youtube.com/watch?v=CYypCGKKmcs\"\n",
    "s = \"123456\""
   ]
  },
  {
   "cell_type": "code",
   "execution_count": null,
   "id": "21c26330",
   "metadata": {},
   "outputs": [],
   "source": [
    "url = pyqrcode.create(s)\n",
    "url.png('qr-gen.png',scale = 6)\n",
    "print(\"QR code has been generated\")"
   ]
  },
  {
   "cell_type": "markdown",
   "id": "cd33555e",
   "metadata": {},
   "source": [
    "# Generate Multiple QR code"
   ]
  },
  {
   "cell_type": "code",
   "execution_count": null,
   "id": "51009a5a",
   "metadata": {},
   "outputs": [],
   "source": [
    "s = [\"123456\",\"789012\"] "
   ]
  },
  {
   "cell_type": "code",
   "execution_count": null,
   "id": "c9d85425",
   "metadata": {},
   "outputs": [],
   "source": [
    "counter = 0\n",
    "for i in s:\n",
    "    print(counter)\n",
    "    filename = \"qr-gen-\" + str(counter) + \".png\"\n",
    "    url = pyqrcode.create(s[counter])\n",
    "    url.png(filename,scale = 6)\n",
    "    print(f\"QR code {counter} has been generated\")\n",
    "    counter += 1"
   ]
  },
  {
   "cell_type": "markdown",
   "id": "e3ab06ce",
   "metadata": {},
   "source": [
    "# Further exploration \n",
    "1. Generate QR code that contains a whole list\n",
    "2. Generating Dynamic QR Code"
   ]
  }
 ],
 "metadata": {
  "kernelspec": {
   "display_name": "Python 3 (ipykernel)",
   "language": "python",
   "name": "python3"
  },
  "language_info": {
   "codemirror_mode": {
    "name": "ipython",
    "version": 3
   },
   "file_extension": ".py",
   "mimetype": "text/x-python",
   "name": "python",
   "nbconvert_exporter": "python",
   "pygments_lexer": "ipython3",
   "version": "3.9.12"
  }
 },
 "nbformat": 4,
 "nbformat_minor": 5
}
